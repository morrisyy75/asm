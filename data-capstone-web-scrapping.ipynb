{
 "cells": [
  {
   "cell_type": "code",
   "execution_count": 1,
   "id": "355c03f5",
   "metadata": {
    "_cell_guid": "b1076dfc-b9ad-4769-8c92-a6c4dae69d19",
    "_uuid": "8f2839f25d086af736a60e9eeb907d3b93b6e0e5",
    "execution": {
     "iopub.execute_input": "2024-04-25T05:21:04.484909Z",
     "iopub.status.busy": "2024-04-25T05:21:04.483657Z",
     "iopub.status.idle": "2024-04-25T05:21:05.312639Z",
     "shell.execute_reply": "2024-04-25T05:21:05.311787Z"
    },
    "papermill": {
     "duration": 0.836561,
     "end_time": "2024-04-25T05:21:05.315031",
     "exception": false,
     "start_time": "2024-04-25T05:21:04.478470",
     "status": "completed"
    },
    "tags": []
   },
   "outputs": [],
   "source": [
    "# This Python 3 environment comes with many helpful analytics libraries installed\n",
    "# It is defined by the kaggle/python Docker image: https://github.com/kaggle/docker-python\n",
    "# For example, here's several helpful packages to load\n",
    "\n",
    "import numpy as np # linear algebra\n",
    "import pandas as pd # data processing, CSV file I/O (e.g. pd.read_csv)\n",
    "\n",
    "# Input data files are available in the read-only \"../input/\" directory\n",
    "# For example, running this (by clicking run or pressing Shift+Enter) will list all files under the input directory\n",
    "\n",
    "import os\n",
    "for dirname, _, filenames in os.walk('/kaggle/input'):\n",
    "    for filename in filenames:\n",
    "        print(os.path.join(dirname, filename))\n",
    "\n",
    "# You can write up to 20GB to the current directory (/kaggle/working/) that gets preserved as output when you create a version using \"Save & Run All\" \n",
    "# You can also write temporary files to /kaggle/temp/, but they won't be saved outside of the current session"
   ]
  },
  {
   "cell_type": "markdown",
   "id": "f8ae5f8e",
   "metadata": {
    "papermill": {
     "duration": 0.002634,
     "end_time": "2024-04-25T05:21:05.321085",
     "exception": false,
     "start_time": "2024-04-25T05:21:05.318451",
     "status": "completed"
    },
    "tags": []
   },
   "source": []
  },
  {
   "cell_type": "code",
   "execution_count": 2,
   "id": "9a36840d",
   "metadata": {
    "execution": {
     "iopub.execute_input": "2024-04-25T05:21:05.328587Z",
     "iopub.status.busy": "2024-04-25T05:21:05.328081Z",
     "iopub.status.idle": "2024-04-25T05:21:05.332884Z",
     "shell.execute_reply": "2024-04-25T05:21:05.331941Z"
    },
    "papermill": {
     "duration": 0.010958,
     "end_time": "2024-04-25T05:21:05.334832",
     "exception": false,
     "start_time": "2024-04-25T05:21:05.323874",
     "status": "completed"
    },
    "tags": []
   },
   "outputs": [],
   "source": [
    "#this url contains the data we need to scrape\n",
    "url = \"https://cf-courses-data.s3.us.cloud-object-storage.appdomain.cloud/IBM-DA0321EN-SkillsNetwork/labs/datasets/Programming_Languages.html\""
   ]
  },
  {
   "cell_type": "code",
   "execution_count": 3,
   "id": "cf841005",
   "metadata": {
    "execution": {
     "iopub.execute_input": "2024-04-25T05:21:05.341793Z",
     "iopub.status.busy": "2024-04-25T05:21:05.341424Z",
     "iopub.status.idle": "2024-04-25T05:21:05.578636Z",
     "shell.execute_reply": "2024-04-25T05:21:05.577622Z"
    },
    "papermill": {
     "duration": 0.243684,
     "end_time": "2024-04-25T05:21:05.581320",
     "exception": false,
     "start_time": "2024-04-25T05:21:05.337636",
     "status": "completed"
    },
    "tags": []
   },
   "outputs": [],
   "source": [
    "#import the required libraries for webscrapping\n",
    "import requests\n",
    "from bs4 import BeautifulSoup as bsp"
   ]
  },
  {
   "cell_type": "code",
   "execution_count": 4,
   "id": "82c43b77",
   "metadata": {
    "execution": {
     "iopub.execute_input": "2024-04-25T05:21:05.589154Z",
     "iopub.status.busy": "2024-04-25T05:21:05.588656Z",
     "iopub.status.idle": "2024-04-25T05:21:06.585603Z",
     "shell.execute_reply": "2024-04-25T05:21:06.584448Z"
    },
    "papermill": {
     "duration": 1.003852,
     "end_time": "2024-04-25T05:21:06.588303",
     "exception": false,
     "start_time": "2024-04-25T05:21:05.584451",
     "status": "completed"
    },
    "tags": []
   },
   "outputs": [],
   "source": [
    "# Load the html table from the url into a soup object\n",
    "data = requests.get(url).text\n",
    "soup = bsp(data,'html.parser')\n",
    "table = soup.find('tbody')"
   ]
  },
  {
   "cell_type": "code",
   "execution_count": 5,
   "id": "ec0bbaaf",
   "metadata": {
    "execution": {
     "iopub.execute_input": "2024-04-25T05:21:06.596520Z",
     "iopub.status.busy": "2024-04-25T05:21:06.595518Z",
     "iopub.status.idle": "2024-04-25T05:21:06.622705Z",
     "shell.execute_reply": "2024-04-25T05:21:06.621474Z"
    },
    "papermill": {
     "duration": 0.03445,
     "end_time": "2024-04-25T05:21:06.625810",
     "exception": false,
     "start_time": "2024-04-25T05:21:06.591360",
     "status": "completed"
    },
    "tags": []
   },
   "outputs": [
    {
     "name": "stdout",
     "output_type": "stream",
     "text": [
      "   Language name  annual average salary\n",
      "0       Language  Average Annual Salary\n",
      "1         Python               $114,383\n",
      "2           Java               $101,013\n",
      "3              R                $92,037\n",
      "4     Javascript               $110,981\n",
      "5          Swift               $130,801\n",
      "6            C++               $113,865\n",
      "7             C#                $88,726\n",
      "8            PHP                $84,727\n",
      "9            SQL                $84,793\n",
      "10            Go                $94,082\n"
     ]
    }
   ],
   "source": [
    "# Extract the desired data \n",
    "# Load the scrapped data into a dataframe\n",
    "df = pd.DataFrame(columns=[\"Language name\", \"annual average salary\"])\n",
    "\n",
    "for row in soup.find(\"tbody\").find_all(\"tr\"):\n",
    "    col = row.find_all(\"td\")\n",
    "    Language = col[1].text\n",
    "    Salary = col[3].text\n",
    "    \n",
    "    df = pd.concat([df, pd.DataFrame({\"Language name\": [Language], \"annual average salary\": [Salary]})], ignore_index=True)\n",
    "\n",
    "print(df)"
   ]
  },
  {
   "cell_type": "code",
   "execution_count": 6,
   "id": "0727d108",
   "metadata": {
    "execution": {
     "iopub.execute_input": "2024-04-25T05:21:06.633348Z",
     "iopub.status.busy": "2024-04-25T05:21:06.632976Z",
     "iopub.status.idle": "2024-04-25T05:21:06.642054Z",
     "shell.execute_reply": "2024-04-25T05:21:06.641131Z"
    },
    "papermill": {
     "duration": 0.015393,
     "end_time": "2024-04-25T05:21:06.644348",
     "exception": false,
     "start_time": "2024-04-25T05:21:06.628955",
     "status": "completed"
    },
    "tags": []
   },
   "outputs": [],
   "source": [
    "#Output the data into a csv file\n",
    "df.to_csv('popular-languages.csv', index=False)"
   ]
  },
  {
   "cell_type": "code",
   "execution_count": null,
   "id": "46419ddb",
   "metadata": {
    "papermill": {
     "duration": 0.002759,
     "end_time": "2024-04-25T05:21:06.650123",
     "exception": false,
     "start_time": "2024-04-25T05:21:06.647364",
     "status": "completed"
    },
    "tags": []
   },
   "outputs": [],
   "source": []
  },
  {
   "cell_type": "code",
   "execution_count": null,
   "id": "d088e807",
   "metadata": {
    "papermill": {
     "duration": 0.00259,
     "end_time": "2024-04-25T05:21:06.655722",
     "exception": false,
     "start_time": "2024-04-25T05:21:06.653132",
     "status": "completed"
    },
    "tags": []
   },
   "outputs": [],
   "source": []
  }
 ],
 "metadata": {
  "kaggle": {
   "accelerator": "none",
   "dataSources": [],
   "dockerImageVersionId": 30698,
   "isGpuEnabled": false,
   "isInternetEnabled": true,
   "language": "python",
   "sourceType": "notebook"
  },
  "kernelspec": {
   "display_name": "Python 3",
   "language": "python",
   "name": "python3"
  },
  "language_info": {
   "codemirror_mode": {
    "name": "ipython",
    "version": 3
   },
   "file_extension": ".py",
   "mimetype": "text/x-python",
   "name": "python",
   "nbconvert_exporter": "python",
   "pygments_lexer": "ipython3",
   "version": "3.10.13"
  },
  "papermill": {
   "default_parameters": {},
   "duration": 5.239982,
   "end_time": "2024-04-25T05:21:07.078185",
   "environment_variables": {},
   "exception": null,
   "input_path": "__notebook__.ipynb",
   "output_path": "__notebook__.ipynb",
   "parameters": {},
   "start_time": "2024-04-25T05:21:01.838203",
   "version": "2.5.0"
  }
 },
 "nbformat": 4,
 "nbformat_minor": 5
}
